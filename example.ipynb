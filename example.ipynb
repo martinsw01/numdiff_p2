{
 "cells": [
  {
   "cell_type": "code",
   "execution_count": 1,
   "metadata": {
    "collapsed": true
   },
   "outputs": [],
   "source": [
    "import numpy as np\n",
    "import matplotlib.pyplot as plt\n",
    "from stiffness_matrix import stiffness_matrix\n",
    "from load_vector import load_vector"
   ]
  },
  {
   "attachments": {},
   "cell_type": "markdown",
   "metadata": {},
   "source": [
    "### Utilities"
   ]
  },
  {
   "cell_type": "code",
   "execution_count": 2,
   "metadata": {},
   "outputs": [],
   "source": [
    "def loglog_error(f, u, grad_f = 0, grad_u = 0, norm='inf'):\n",
    "    iterations = 50\n",
    "    M = np.logspace(1,2,iterations, dtype=int)\n",
    "    H = 1/M\n",
    "    e = np.zeros_like(H)\n",
    "    for i in range(iterations):\n",
    "        X = np.linspace(0, 1, M[i])\n",
    "        h = 1/M[i]\n",
    "        A = stiffness_matrix(alpha=1, b=1, c=2, H=np.full_like(X, h), M=len(X))\n",
    "        # calculations for normal u\n",
    "        F = load_vector(f, X, len(X))\n",
    "        u_num = np.linalg.solve(A, F)\n",
    "        # calculations where we use the gradient of u instead of u for calculating H1 norm\n",
    "        grad_F = load_vector(grad_f, X, len(X))\n",
    "        grad_u_num = np.linalg.solve(A, grad_F)\n",
    "        if norm == 'inf':\n",
    "            e[i] = np.max(np.abs(u(X[1:-1]) - u_num))\n",
    "        elif norm == 'L2':\n",
    "            e[i] = np.sqrt(np.sum((u(X[1:-1]) - u_num)**2))\n",
    "        elif norm == 'H1':\n",
    "            e[i] = np.sqrt(np.sum((u(X[1:-1]) - u_num)**2 + (grad_u(X[1:-1]) - grad_u_num)**2))\n",
    "    return e, H\n",
    "\n",
    "\n",
    "def loglogplot_error(h, e, ax=None):\n",
    "\n",
    "    if ax is None:\n",
    "        _, ax = plt.subplots()\n",
    "\n",
    "    p = np.polyfit(np.log(h), np.log(e), 1)[0]\n",
    "\n",
    "    ax.set_title(\"Error\")\n",
    "    ax.loglog(h, e, label=f\"p={p:.3f}\")\n",
    "    ax.set_xlabel(\"h\")\n",
    "    ax.set_ylabel(\"e\")\n",
    "    ax.invert_xaxis()\n",
    "    plt.legend()\n",
    "    return plt"
   ]
  },
  {
   "cell_type": "markdown",
   "metadata": {
    "collapsed": false
   },
   "source": [
    "# Example using a solution with constant rhs\n",
    "\n",
    "Let $c_1=-\\frac{e^2 + e}{e^2 + e + 1}$, $c_1=-\\frac{1}{e^2 + e + 1}$, and\n",
    "$$\n",
    "u(x)=c_1e^{-x} + c_2 e^{2x} + 1\n",
    "$$\n",
    "Then, using $\\alpha=1$, $b=1$ and $c=2$, we have\n",
    "$$\n",
    "f(x)=-(Lu)(x) = 2\n",
    "$$\n",
    "This results in the elemental load vector\n",
    "$$\n",
    "\\vec{F}^{K_i} = h_i (1, 1)^T\n",
    "$$"
   ]
  },
  {
   "cell_type": "code",
   "execution_count": 3,
   "metadata": {
    "collapsed": false
   },
   "outputs": [],
   "source": [
    "M = 30\n",
    "X = np.sort(np.random.random(M))\n",
    "X[[0, -1]] = [0, 1]\n",
    "H = np.diff(X)\n",
    "\n",
    "def f(x):\n",
    "    return 2\n",
    "\n",
    "A = stiffness_matrix(alpha=1, b=1, c=2, H=H, M=M)\n",
    "F = load_vector(f, X, M)"
   ]
  },
  {
   "cell_type": "code",
   "execution_count": 4,
   "metadata": {
    "collapsed": false
   },
   "outputs": [],
   "source": [
    "U = np.linalg.solve(A, F)"
   ]
  },
  {
   "cell_type": "code",
   "execution_count": 5,
   "metadata": {
    "collapsed": false
   },
   "outputs": [],
   "source": [
    "def u(x):\n",
    "    return (-np.exp(2*x)) / (np.exp(1) + np.exp(2) + 1) + np.exp(-x) * (-np.exp(1)- np.exp(2)) / (np.exp(1) + np.exp(2) + 1) + 1"
   ]
  },
  {
   "cell_type": "code",
   "execution_count": 6,
   "metadata": {
    "collapsed": false
   },
   "outputs": [
    {
     "data": {
      "text/plain": [
       "[<matplotlib.lines.Line2D at 0x117915dd0>]"
      ]
     },
     "execution_count": 6,
     "metadata": {},
     "output_type": "execute_result"
    },
    {
     "data": {
      "image/png": "[encoded data removed]",
      "text/plain": [
       "<Figure size 640x480 with 1 Axes>"
      ]
     },
     "metadata": {},
     "output_type": "display_data"
    }
   ],
   "source": [
    "plt.plot(X, u(X))\n",
    "plt.plot(X[1:-1], U)"
   ]
  },
  {
   "attachments": {},
   "cell_type": "markdown",
   "metadata": {},
   "source": [
    "## 2b\n",
    "\n",
    "We have two possible test solutions \n",
    "$$u_1(x) = x(1-x)$$\n",
    "and\n",
    "$$u_2(x) = sin(3 \\pi x)$$\n",
    "This gives the right hand sides \n",
    "$$f_1(x) = cx^2 + (c-2b)x + (b-2\\alpha)$$\n",
    "and \n",
    "$$f_2(x) = (9\\pi^2\\alpha+c)sin(3\\pi x) + 3\\pi b cos(3\\pi x)$$\n",
    "respectively. \n",
    "\n",
    "we implement the r.h.s:"
   ]
  },
  {
   "cell_type": "code",
   "execution_count": 7,
   "metadata": {},
   "outputs": [],
   "source": [
    "def u2b_1(x):\n",
    "    return x*(1-x)\n",
    "\n",
    "def f2b_1(x, alpha=1, b=1, c=2):\n",
    "    return -c*x**2 + (c-2*b)*x + (b+2*alpha)\n",
    "\n",
    "def u2b_2(x):\n",
    "    return np.sin(3*np.pi*x)\n",
    "\n",
    "def f2b_2(x, alpha=1, b=1, c=2):\n",
    "    return (9*np.pi**2 * alpha + c)*np.sin(3*np.pi*x) + 3*np.pi*b*np.cos(3*np.pi*x)"
   ]
  },
  {
   "attachments": {},
   "cell_type": "markdown",
   "metadata": {},
   "source": [
    "We then find the load vector and test the method:"
   ]
  },
  {
   "cell_type": "code",
   "execution_count": 8,
   "metadata": {},
   "outputs": [
    {
     "ename": "TypeError",
     "evalue": "'int' object is not callable",
     "output_type": "error",
     "traceback": [
      "\u001b[0;31m---------------------------------------------------------------------------\u001b[0m",
      "\u001b[0;31mTypeError\u001b[0m                                 Traceback (most recent call last)",
      "Cell \u001b[0;32mIn[8], line 10\u001b[0m\n\u001b[1;32m      7\u001b[0m U_2b2 \u001b[39m=\u001b[39m np\u001b[39m.\u001b[39mlinalg\u001b[39m.\u001b[39msolve(A, F_2b2)\n\u001b[1;32m      9\u001b[0m \u001b[39m# now we also find the error\u001b[39;00m\n\u001b[0;32m---> 10\u001b[0m e1, H1 \u001b[39m=\u001b[39m loglog_error(f2b_1, u2b_1)\n\u001b[1;32m     11\u001b[0m e2, H2 \u001b[39m=\u001b[39m loglog_error(f2b_2, u2b_2)\n\u001b[1;32m     13\u001b[0m p1 \u001b[39m=\u001b[39m np\u001b[39m.\u001b[39mpolyfit(np\u001b[39m.\u001b[39mlog(H1), np\u001b[39m.\u001b[39mlog(e1), \u001b[39m1\u001b[39m)[\u001b[39m0\u001b[39m]\n",
      "Cell \u001b[0;32mIn[2], line 14\u001b[0m, in \u001b[0;36mloglog_error\u001b[0;34m(f, u, grad_f, grad_u, norm)\u001b[0m\n\u001b[1;32m     12\u001b[0m u_num \u001b[39m=\u001b[39m np\u001b[39m.\u001b[39mlinalg\u001b[39m.\u001b[39msolve(A, F)\n\u001b[1;32m     13\u001b[0m \u001b[39m# calculations where we use the gradient of u instead of u for calculating H1 norm\u001b[39;00m\n\u001b[0;32m---> 14\u001b[0m grad_F \u001b[39m=\u001b[39m load_vector(grad_f, X, \u001b[39mlen\u001b[39;49m(X))\n\u001b[1;32m     15\u001b[0m grad_u_num \u001b[39m=\u001b[39m np\u001b[39m.\u001b[39mlinalg\u001b[39m.\u001b[39msolve(A, grad_F)\n\u001b[1;32m     16\u001b[0m \u001b[39mif\u001b[39;00m norm \u001b[39m==\u001b[39m \u001b[39m'\u001b[39m\u001b[39minf\u001b[39m\u001b[39m'\u001b[39m:\n",
      "File \u001b[0;32m~/Documents/emne_git_repo/8_s/TMA4212 NumdDiff/numdiff_p2/load_vector.py:23\u001b[0m, in \u001b[0;36mload_vector\u001b[0;34m(f, X, M, g0, g1)\u001b[0m\n\u001b[1;32m     21\u001b[0m F \u001b[39m=\u001b[39m np\u001b[39m.\u001b[39mzeros(M)\n\u001b[1;32m     22\u001b[0m \u001b[39mfor\u001b[39;00m i \u001b[39min\u001b[39;00m \u001b[39mrange\u001b[39m(\u001b[39m1\u001b[39m, M\u001b[39m-\u001b[39m\u001b[39m2\u001b[39m):\n\u001b[0;32m---> 23\u001b[0m     F[i:i\u001b[39m+\u001b[39m\u001b[39m2\u001b[39m] \u001b[39m+\u001b[39m\u001b[39m=\u001b[39m elemental_load_vector(f, X[i], X[i\u001b[39m+\u001b[39;49m\u001b[39m1\u001b[39;49m])\n\u001b[1;32m     24\u001b[0m F[\u001b[39m2\u001b[39m] \u001b[39m+\u001b[39m\u001b[39m=\u001b[39m g0\u001b[39m/\u001b[39m(X[\u001b[39m1\u001b[39m]\u001b[39m-\u001b[39mX[\u001b[39m0\u001b[39m])\n\u001b[1;32m     25\u001b[0m F[\u001b[39m-\u001b[39m\u001b[39m2\u001b[39m] \u001b[39m+\u001b[39m\u001b[39m=\u001b[39m g1\u001b[39m/\u001b[39m(X[\u001b[39m-\u001b[39m\u001b[39m1\u001b[39m]\u001b[39m-\u001b[39mX[\u001b[39m-\u001b[39m\u001b[39m2\u001b[39m])\n",
      "File \u001b[0;32m~/Documents/emne_git_repo/8_s/TMA4212 NumdDiff/numdiff_p2/load_vector.py:8\u001b[0m, in \u001b[0;36melemental_load_vector\u001b[0;34m(f, x0, x1)\u001b[0m\n\u001b[1;32m      6\u001b[0m \u001b[39mdef\u001b[39;00m \u001b[39melemental_load_vector\u001b[39m(f, x0, x1):\n\u001b[1;32m      7\u001b[0m     \u001b[39mreturn\u001b[39;00m np\u001b[39m.\u001b[39marray([\n\u001b[0;32m----> 8\u001b[0m         quadrature_phi0(f, x0, x1),\n\u001b[1;32m      9\u001b[0m         quadrature_phi1(f, x0, x1)\n\u001b[1;32m     10\u001b[0m     ])\n",
      "File \u001b[0;32m~/Documents/emne_git_repo/8_s/TMA4212 NumdDiff/numdiff_p2/quadrature.py:3\u001b[0m, in \u001b[0;36mquadrature_phi0\u001b[0;34m(f, x0, x1)\u001b[0m\n\u001b[1;32m      2\u001b[0m \u001b[39mdef\u001b[39;00m \u001b[39mquadrature_phi0\u001b[39m(f, x0, x1):\n\u001b[0;32m----> 3\u001b[0m     \u001b[39mreturn\u001b[39;00m \u001b[39m0.5\u001b[39m\u001b[39m*\u001b[39mf(x1) \u001b[39m*\u001b[39m (x1\u001b[39m-\u001b[39mx0)\n",
      "\u001b[0;31mTypeError\u001b[0m: 'int' object is not callable"
     ]
    }
   ],
   "source": [
    "# here we construct the load-vector\n",
    "F_2b1 = load_vector(f2b_1, X, M)\n",
    "F_2b2 = load_vector(f2b_2, X, M)\n",
    "\n",
    "# here we calculate the numerical solution\n",
    "U_2b1 = np.linalg.solve(A, F_2b1)\n",
    "U_2b2 = np.linalg.solve(A, F_2b2)\n",
    "\n",
    "# now we also find the error\n",
    "e1, H1 = loglog_error(f2b_1, u2b_1)\n",
    "e2, H2 = loglog_error(f2b_2, u2b_2)\n",
    "\n",
    "p1 = np.polyfit(np.log(H1), np.log(e1), 1)[0]\n",
    "p2 = np.polyfit(np.log(H2), np.log(e2), 1)[0]\n",
    "\n",
    "# Here we plit the figures\n",
    "plt.figure(figsize=(12,7))\n",
    "\n",
    "plt.subplot(2,2,1, title=\"u1\")\n",
    "plt.plot(X, u2b_1(X))\n",
    "plt.plot(X[1:-1], U_2b1, linestyle='dashed')\n",
    "\n",
    "plt.subplot(2,2,2,title=\"u2\")\n",
    "plt.plot(X, u2b_2(X))\n",
    "plt.plot(X[1:-1], U_2b2, linestyle='dashed')\n",
    "\n",
    "plt.subplot(2,2,3, title='error u1')\n",
    "plt.loglog(e1, H1, label=f\"p={p1:.3f}\")\n",
    "plt.xlabel('Stepsize h')\n",
    "plt.ylabel('error')\n",
    "plt.legend()\n",
    "\n",
    "plt.subplot(2,2,4, title='error u2')\n",
    "plt.loglog(e2, H2, label=f\"p={p2:.3f}\")\n",
    "plt.xlabel('Stepsize h')\n",
    "plt.ylabel('error')\n",
    "plt.legend()"
   ]
  },
  {
   "cell_type": "markdown",
   "metadata": {
    "collapsed": false
   },
   "source": [
    "### 2d\n",
    "\n",
    "$$\n",
    "w_1(x) = \\begin{cases}\n",
    "2x &, \\quad x \\in \\left(0, \\frac{1}{2}\\right) \\\\\n",
    "2-2x &, \\quad x \\in \\left(\\frac{1}{2}, 1\\right)\n",
    "\\end{cases}\n",
    "$$\n",
    "\n",
    "For $K_j \\subset (0, \\frac{1}{2})$\n",
    "$$\n",
    "\\begin{aligned}\n",
    "F^{K_j}(\\phi_{j-1})\n",
    "&= -2\\alpha + b(x_j+x_{j-1}) + \\frac{c}{3} h_j \\frac{x_j+2x_{j-1}}{3} \\\\\n",
    "F^{K_j}(\\phi_j)\n",
    "&=  2\\alpha - b(x_j+x_{j-1}) + \\frac{c}{3} h_j \\frac{2x_j + x_{j-1}}{3}\n",
    "\\end{aligned}\n",
    "$$\n",
    "\n",
    "For $K_j \\subset (\\frac{1}{2}, 1)$\n",
    "$$\n",
    "\\begin{aligned}\n",
    "F^{K_j}(\\phi_{j-1})\n",
    "&= 2\\alpha  + b(2-x_j-x_{j-1}) + c h_j \\left(1- \\frac{x_j+2x_{j-1}}{3}\\right) \\\\\n",
    "F^{K_j}(\\phi_j)\n",
    "&= -2\\alpha + b(x_j+x_{j-1}-2) + c h_j \\left(1- \\frac{x_j + 2x_{j-1}}{3}\\right)\n",
    "\\end{aligned}\n",
    "$$"
   ]
  },
  {
   "cell_type": "code",
   "execution_count": null,
   "metadata": {
    "collapsed": false
   },
   "outputs": [],
   "source": [
    "def w1(x):\n",
    "    return (x < 0.5) * 2*x + (x >= 0.5) * (2-2*x)\n",
    "\n",
    "def grad_w1(x):\n",
    "    return (x < 0.5)*2 + (x >= 0.5)*(-2)\n",
    "\n",
    "def grad_f_w1(x):\n",
    "    return "
   ]
  },
  {
   "cell_type": "code",
   "execution_count": null,
   "metadata": {
    "collapsed": false
   },
   "outputs": [],
   "source": [
    "def w1_elemental_load_vector_first_half(alpha, b, c, x0, x1):\n",
    "    return np.array([\n",
    "        -2*alpha + b*(x0+x1) + c*(x1-x0)*(x1+2*x0)/3,\n",
    "        2*alpha - b*(x0+x1) + c*(x1-x0)*(2*x1+x0)/3\n",
    "    ])\n",
    "\n",
    "def w1_elemental_load_vector_last_half(alpha, b, c, x0, x1):\n",
    "    return np.array([\n",
    "        2*alpha + b*(2-x1-x0) + c*(x1-x0)*(1-(x1+2*x0)/3),\n",
    "        -2*alpha + b*(x1+x0-2) + c*(x1-x0)*(1-(2*x1+x0)/3)\n",
    "    ])\n",
    "\n",
    "def build_w1_load_vector(alpha, b, c, X, M):\n",
    "    F = np.zeros(M)\n",
    "    for i in range(1, M-2):\n",
    "        if X[i+1] < 0.5:\n",
    "            F[i:i+2] += w1_elemental_load_vector_first_half(alpha, b, c, X[i], X[i+1])\n",
    "        else:\n",
    "            F[i:i+2] += w1_elemental_load_vector_last_half(alpha, b, c, X[i], X[i+1])\n",
    "\n",
    "    return F[1:-1]"
   ]
  },
  {
   "cell_type": "code",
   "execution_count": null,
   "metadata": {
    "collapsed": false
   },
   "outputs": [],
   "source": [
    "alpha = 2\n",
    "b = 1\n",
    "c = 1\n",
    "\n",
    "M = 300\n",
    "X = np.sort(np.random.random(M))\n",
    "X[[0, -1]] = [0, 1]\n",
    "H = np.diff(X)\n",
    "\n",
    "A = stiffness_matrix(alpha, b, c, H, M)\n",
    "F = build_w1_load_vector(alpha, b, c, X, M)\n",
    "U = np.linalg.solve(A, F)"
   ]
  },
  {
   "cell_type": "code",
   "execution_count": null,
   "metadata": {
    "collapsed": false
   },
   "outputs": [
    {
     "data": {
      "text/plain": [
       "[<matplotlib.lines.Line2D at 0x1206b34c0>]"
      ]
     },
     "execution_count": 66,
     "metadata": {},
     "output_type": "execute_result"
    },
    {
     "data": {
      "image/png": "[encoded data removed]",
      "text/plain": [
       "<Figure size 640x480 with 1 Axes>"
      ]
     },
     "metadata": {},
     "output_type": "display_data"
    }
   ],
   "source": [
    "plt.plot(X[1:-1], U)"
   ]
  },
  {
   "cell_type": "code",
   "execution_count": null,
   "metadata": {
    "collapsed": false
   },
   "outputs": [
    {
     "data": {
      "text/plain": [
       "0.9833808270990219"
      ]
     },
     "execution_count": 67,
     "metadata": {},
     "output_type": "execute_result"
    }
   ],
   "source": [
    "np.max(U)"
   ]
  },
  {
   "attachments": {},
   "cell_type": "markdown",
   "metadata": {},
   "source": [
    "### Error in $L^2$ and $H^1$"
   ]
  },
  {
   "cell_type": "code",
   "execution_count": null,
   "metadata": {
    "collapsed": false
   },
   "outputs": [],
   "source": []
  }
 ],
 "metadata": {
  "kernelspec": {
   "display_name": "Python 3",
   "language": "python",
   "name": "python3"
  },
  "language_info": {
   "codemirror_mode": {
    "name": "ipython",
    "version": 3
   },
   "file_extension": ".py",
   "mimetype": "text/x-python",
   "name": "python",
   "nbconvert_exporter": "python",
   "pygments_lexer": "ipython3",
   "version": "3.11.1"
  }
 },
 "nbformat": 4,
 "nbformat_minor": 0
}

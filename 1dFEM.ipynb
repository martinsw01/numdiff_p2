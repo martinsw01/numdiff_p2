{
 "cells": [
  {
   "cell_type": "markdown",
   "metadata": {},
   "source": [
    "### Implementation of $\\mathbb P_1$ FEM in 1D"
   ]
  },
  {
   "cell_type": "markdown",
   "metadata": {},
   "source": [
    "We want to solve \n",
    "$$\n",
    "   -u_{xx} = f(x) \\quad\\text{ on }\\quad (0,1), \\qquad u(0)=u(1)=0\n",
    "$$\n",
    "with $f=1$ in this simple example.\n",
    "\n",
    "For a subdivision $\\mathcal T_h=\\{K_i\\}_{i=1}^M$ of $\\Omega=(0,1)$, define\n",
    "\n",
    "$$\n",
    "X_h^1 = \\{v\\in C^{0}[0,1]\\;|\\; v|_{K} \\in \\mathbb{P}_1 \\ \\forall K\\in\\mathcal T_h\\}\\qquad \\text{and}\\qquad V_h = \\{v\\in X_h^1: v(0)=0=v(1)\\}.\n",
    "$$\n",
    "\n",
    "The Galerkin $\\mathbb P_1$ FEM is then given by: \n",
    "\n",
    "$\\qquad$Find $u_h\\in V_h$ such that$\\qquad a(u_h,v) := \\int_0^1 u_h' v'\\, dx = \\int_0^1 fv\\, dx := F(v) \\qquad \\forall v\\in V_h.$\n",
    "\n",
    "Using the hat-function basis, $X_h^1=\\text{span}\\{\\phi_0,\\dots,\\phi_M\\}$, $u_h(x)=\\sum_{i=0}^M U_i \\phi_i(x)$, and the FEM becomes a linear system:\n",
    "\n",
    "$$A \\vec U = \\vec F$$\n",
    "\n",
    "where\n",
    "$$A_{ij}=a(\\phi_j,\\phi_i),\\qquad \\vec U = [U_0 , \\dots, U_M],\\qquad \\vec F = [ F(\\phi_0), \\dots, F(\\phi_M) ]$$\n",
    "\n",
    "#### Implementation\n",
    "\n",
    "Initialise python libraries, set plotting parameters"
   ]
  },
  {
   "cell_type": "code",
   "execution_count": 1,
   "metadata": {},
   "outputs": [],
   "source": [
    "%matplotlib inline\n",
    "import numpy as np\n",
    "import matplotlib.pyplot as plt\n",
    "newparams = {'figure.figsize': (8.0, 4.0), 'axes.grid': True,\n",
    "             'lines.markersize': 8, 'lines.linewidth': 2,\n",
    "             'font.size': 14}\n",
    "plt.rcParams.update(newparams)"
   ]
  },
  {
   "cell_type": "markdown",
   "metadata": {},
   "source": [
    "Set ut the subdivision ('triangulation') of space: Choose nodes $x_i$ and elements $K_k=(x_{k-1},x_{k})$. "
   ]
  },
  {
   "cell_type": "code",
   "execution_count": 2,
   "metadata": {},
   "outputs": [],
   "source": [
    "Xk = np.array([0, 0.1, 0.3, 0.6, 0.8, 0.9, 0.95, 0.97, 1])  # Nodes, elements K(i) = (x(i-1), x(i))\n",
    "Mi = len(Xk)                     # Number of nodes\n",
    "T = np.ndarray.transpose(np.array([Xk[:-1],Xk[1:]])) # Set of elements/triangulation\n",
    "H = Xk[1:]-Xk[:-1]               # Element sizes\n",
    "Mk = Mi-1                        # Number of elements"
   ]
  },
  {
   "cell_type": "code",
   "execution_count": 3,
   "metadata": {},
   "outputs": [
    {
     "name": "stdout",
     "output_type": "stream",
     "text": [
      "\n",
      "Nodes:  [0.   0.1  0.3  0.6  0.8  0.9  0.95 0.97 1.  ] \n",
      "\n",
      "Number of nodes: Mi =  9\n",
      "\n",
      "Collection of elements ('triangulation'):\n",
      "\n",
      " T = \n",
      "\n",
      " [[0.   0.1 ]\n",
      " [0.1  0.3 ]\n",
      " [0.3  0.6 ]\n",
      " [0.6  0.8 ]\n",
      " [0.8  0.9 ]\n",
      " [0.9  0.95]\n",
      " [0.95 0.97]\n",
      " [0.97 1.  ]] \n",
      "\n",
      "Number of elements: Mk =  8 \n",
      "\n",
      "Element sizes: H =  [0.1  0.2  0.3  0.2  0.1  0.05 0.02 0.03]\n"
     ]
    }
   ],
   "source": [
    "print(\"\\nNodes: \",Xk,\"\\n\\nNumber of nodes: Mi = \", Mi)\n",
    "print(\"\\nCollection of elements ('triangulation'):\\n\\n T = \\n\\n\",T,\"\\n\\nNumber of elements: Mk = \", Mk,\"\\n\\nElement sizes: H = \",H)"
   ]
  },
  {
   "cell_type": "markdown",
   "metadata": {},
   "source": [
    "Set up the elemental stiffness matrix and elemental load vector)."
   ]
  },
  {
   "cell_type": "code",
   "execution_count": 4,
   "metadata": {},
   "outputs": [],
   "source": [
    "Ak = np.array([[1,-1],[-1,1]])\n",
    "fk = np.array([1/2,1/2])   # f=1"
   ]
  },
  {
   "cell_type": "markdown",
   "metadata": {},
   "source": [
    "Find the local to global mapping (here the elements are numbered from 0, and not from 1)"
   ]
  },
  {
   "cell_type": "code",
   "execution_count": 5,
   "metadata": {},
   "outputs": [],
   "source": [
    "def loc2glob(k,alpha):\n",
    "    return k+alpha          # Numbering k from 0"
   ]
  },
  {
   "cell_type": "markdown",
   "metadata": {},
   "source": [
    "The assembly process:"
   ]
  },
  {
   "cell_type": "code",
   "execution_count": 6,
   "metadata": {},
   "outputs": [],
   "source": [
    "A = np.zeros((Mi,Mi))\n",
    "f = np.zeros((Mi))\n",
    "\n",
    "for k in range(0,Mk):\n",
    "    for alpha in range(2):\n",
    "        i = loc2glob(k,alpha)\n",
    "        for beta in range(2):\n",
    "            j = loc2glob(k,beta)\n",
    "            A[i,j] += Ak[alpha,beta]/H[k]\n",
    "        f[i] += fk[alpha]*H[k]"
   ]
  },
  {
   "cell_type": "markdown",
   "metadata": {},
   "source": [
    "Print the resulting matrix $A$ and vector $f$."
   ]
  },
  {
   "cell_type": "code",
   "execution_count": 7,
   "metadata": {},
   "outputs": [
    {
     "name": "stdout",
     "output_type": "stream",
     "text": [
      "A=\n",
      " [[ 10.  -10.    0.    0.    0.    0.    0.    0.    0. ]\n",
      " [-10.   15.   -5.    0.    0.    0.    0.    0.    0. ]\n",
      " [  0.   -5.    8.3  -3.3   0.    0.    0.    0.    0. ]\n",
      " [  0.    0.   -3.3   8.3  -5.    0.    0.    0.    0. ]\n",
      " [  0.    0.    0.   -5.   15.  -10.    0.    0.    0. ]\n",
      " [  0.    0.    0.    0.  -10.   30.  -20.    0.    0. ]\n",
      " [  0.    0.    0.    0.    0.  -20.   70.  -50.    0. ]\n",
      " [  0.    0.    0.    0.    0.    0.  -50.   83.3 -33.3]\n",
      " [  0.    0.    0.    0.    0.    0.    0.  -33.3  33.3]] \n",
      "\n",
      " f= [0.  0.2 0.2 0.2 0.2 0.1 0.  0.  0. ]\n"
     ]
    }
   ],
   "source": [
    "print(\"A=\\n\", np.around(A,decimals=1, out=None),\"\\n\\n\",\"f=\", np.around(f,decimals=1, out=None))"
   ]
  },
  {
   "cell_type": "markdown",
   "metadata": {},
   "source": [
    "Impose the boundary conditions by changing the first and the last equation. "
   ]
  },
  {
   "cell_type": "code",
   "execution_count": 8,
   "metadata": {},
   "outputs": [],
   "source": [
    "# Impose boundary condition\n",
    "# Dirichlet boundary conditions\n",
    "A[0,:] = 0;\n",
    "A[0,0] = 1\n",
    "f[0] = 0\n",
    "A[-1,:] = 0\n",
    "A[-1,-1] = 1\n",
    "f[-1] = 0"
   ]
  },
  {
   "cell_type": "markdown",
   "metadata": {},
   "source": [
    "And solve the corresponding linear system"
   ]
  },
  {
   "cell_type": "code",
   "execution_count": 9,
   "metadata": {},
   "outputs": [],
   "source": [
    "U = np.linalg.solve(A,f)"
   ]
  },
  {
   "cell_type": "markdown",
   "metadata": {},
   "source": [
    "Plot the solution. "
   ]
  },
  {
   "cell_type": "code",
   "execution_count": 10,
   "metadata": {},
   "outputs": [
    {
     "data": {
      "image/png": "[encoded data removed]",
      "text/plain": [
       "<Figure size 432x288 with 1 Axes>"
      ]
     },
     "metadata": {
      "needs_background": "light"
     },
     "output_type": "display_data"
    }
   ],
   "source": [
    "plt.plot(Xk,U,Xk,0.5*Xk*(1-Xk),'o')\n",
    "plt.legend(['Numerical','Exact'])\n",
    "plt.xlabel('x');"
   ]
  }
 ],
 "metadata": {
  "kernelspec": {
   "display_name": "Python 3",
   "language": "python",
   "name": "python3"
  },
  "language_info": {
   "codemirror_mode": {
    "name": "ipython",
    "version": 3
   },
   "file_extension": ".py",
   "mimetype": "text/x-python",
   "name": "python",
   "nbconvert_exporter": "python",
   "pygments_lexer": "ipython3",
   "version": "3.7.4"
  }
 },
 "nbformat": 4,
 "nbformat_minor": 4
}
